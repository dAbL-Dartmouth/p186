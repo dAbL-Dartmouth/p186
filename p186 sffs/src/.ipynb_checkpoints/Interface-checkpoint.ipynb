{
 "cells": [
  {
   "cell_type": "code",
   "execution_count": 1,
   "metadata": {},
   "outputs": [
    {
     "name": "stderr",
     "output_type": "stream",
     "text": [
      "/home/calre/anaconda3/lib/python3.7/site-packages/sklearn/externals/joblib/__init__.py:15: DeprecationWarning: sklearn.externals.joblib is deprecated in 0.21 and will be removed in 0.23. Please import this functionality directly from joblib, which can be installed with: pip install joblib. If this warning is raised when loading pickled models, you may need to re-serialize those models with scikit-learn 0.21+.\n",
      "  warnings.warn(msg, category=DeprecationWarning)\n"
     ]
    }
   ],
   "source": [
    "from model import make_datasets, select_features, load_data, build_selector, permutation_test, evaluate_feature_search, plot_coefficients\n",
    "from functions import CorrelationThreshhold\n",
    "from sklearn.pipeline import Pipeline\n",
    "from sklearn.model_selection import train_test_split\n",
    "from sklearn.linear_model import LogisticRegression\n",
    "import pandas as pd\n",
    "import joblib\n",
    "import seaborn as sns\n",
    "import yaml\n",
    "import numpy as np\n",
    "from model import permtest_evaluate, plot_permutation_violins, plot_feature_search, plot_confusion_matrix, plot_pca, plot_box\n",
    "from functions import (CorrelationThreshhold, split_dataset)\n",
    "from mlxtend.feature_selection import SequentialFeatureSelector as SFS\n",
    "\n",
    "np.random.seed(88)"
   ]
  },
  {
   "cell_type": "code",
   "execution_count": null,
   "metadata": {},
   "outputs": [],
   "source": [
    "C=.1"
   ]
  },
  {
   "cell_type": "code",
   "execution_count": null,
   "metadata": {},
   "outputs": [],
   "source": [
    "select_features(clf=LogisticRegression(solver=\"lbfgs\", C=C))\n",
    "evaluate_feature_search(test=False)\n",
    "permutation_test(clf=LogisticRegression(solver=\"lbfgs\", C=C))\n",
    "permtest_evaluate(3)\n",
    "plot_coefficients()\n",
    "plot_confusion_matrix()\n",
    "plot_pca()\n",
    "plot_box()"
   ]
  }
 ],
 "metadata": {
  "kernelspec": {
   "display_name": "Python 3",
   "language": "python",
   "name": "python3"
  },
  "language_info": {
   "codemirror_mode": {
    "name": "ipython",
    "version": 3
   },
   "file_extension": ".py",
   "mimetype": "text/x-python",
   "name": "python",
   "nbconvert_exporter": "python",
   "pygments_lexer": "ipython3",
   "version": "3.7.3"
  }
 },
 "nbformat": 4,
 "nbformat_minor": 2
}
